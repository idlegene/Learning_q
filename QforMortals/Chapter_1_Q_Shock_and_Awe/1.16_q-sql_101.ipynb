{
 "cells": [
  {
   "cell_type": "markdown",
   "metadata": {},
   "source": [
    "## 1.16 q-sql 101 "
   ]
  },
  {
   "cell_type": "markdown",
   "metadata": {},
   "source": [
    "There are multiple ways to operate on tables. First, you can treat a table as the column dictionary that it is and perform basic dictionary operations on it. \n",
    "\n",
    "Qbies who are familiar with SQL may find it easier to use q’s version of SQL-like syntax, called q-sql. In this section we explore basic q-sql features. \n",
    "\n",
    "The fundamental q-sql operation is the select template, We say template because, unlike other q primitives, it is not evaluated right- to-left.\n",
    "\n",
    "**Rather, it is syntactic sugar designed to mimic SQL SELECT. That said, we emphasize that although select does act like SQL SELECT in some respects, there is one fundamental difference.**\n",
    "\n",
    "**Whereas SQL SELECT operates on fields on a row-by-row basis, select performs vector operations on column lists. Insisting on thinking in rows with q tables will end in tears.**"
   ]
  },
  {
   "cell_type": "markdown",
   "metadata": {},
   "source": [
    "We construct a simple table for our examples."
   ]
  },
  {
   "cell_type": "code",
   "execution_count": 1,
   "metadata": {},
   "outputs": [],
   "source": [
    "t:([] c1:1000+til 6; c2:`a`b`c`a`b`a; c3:10*1+til 6)"
   ]
  },
  {
   "cell_type": "code",
   "execution_count": 2,
   "metadata": {},
   "outputs": [
    {
     "data": {
      "text/plain": [
       "c1   c2 c3\r\n",
       "----------\r\n",
       "1000 a  10\r\n",
       "1001 b  20\r\n",
       "1002 c  30\r\n",
       "1003 a  40\r\n",
       "1004 b  50\r\n",
       "1005 a  60\r\n"
      ]
     },
     "execution_count": 2,
     "metadata": {},
     "output_type": "execute_result"
    }
   ],
   "source": [
    "t"
   ]
  },
  {
   "cell_type": "markdown",
   "metadata": {},
   "source": [
    "The simplest form of select retrieves all the records and columns of the table by leaving unspecified which rows or columns—there is ___no need for the wildcard * of SQL. The __ ‘select’ and ‘from’ must occur together.__"
   ]
  },
  {
   "cell_type": "code",
   "execution_count": 3,
   "metadata": {},
   "outputs": [
    {
     "data": {
      "text/plain": [
       "c1   c2 c3\r\n",
       "----------\r\n",
       "1000 a  10\r\n",
       "1001 b  20\r\n",
       "1002 c  30\r\n",
       "1003 a  40\r\n",
       "1004 b  50\r\n",
       "1005 a  60\r\n"
      ]
     },
     "execution_count": 3,
     "metadata": {},
     "output_type": "execute_result"
    }
   ],
   "source": [
    "select from t "
   ]
  },
  {
   "cell_type": "markdown",
   "metadata": {},
   "source": [
    "The next example shows how to specify which columns to return and optional names to associate with them. "
   ]
  },
  {
   "cell_type": "code",
   "execution_count": 12,
   "metadata": {},
   "outputs": [
    {
     "data": {
      "text/plain": [
       "c1   val\r\n",
       "--------\r\n",
       "1000 20 \r\n",
       "1001 40 \r\n",
       "1002 60 \r\n",
       "1003 80 \r\n",
       "1004 100\r\n",
       "1005 120\r\n"
      ]
     },
     "execution_count": 12,
     "metadata": {},
     "output_type": "execute_result"
    }
   ],
   "source": [
    "select c1,val:2*c3  from t"
   ]
  },
  {
   "cell_type": "markdown",
   "metadata": {},
   "source": [
    "We make several observations \n",
    "* Result columns are separated by ‘,’ and are sequenced left- to-right. \n",
    "* Any q expressions inside select are evaluated right-to-left, as usual. \n",
    "* As was the case with table definition syntax, instances of ‘:’ are not assignment; rather, they are syntactic markers separating a column name to its left from the q expression to its right, which computes the column. \n",
    "* Arbitrary q expressions can be used to produce result columns, provided all column lengths are the same. \n",
    "* There are optional by and where phrases for grouping and constraints"
   ]
  },
  {
   "cell_type": "markdown",
   "metadata": {},
   "source": [
    "The next example demonstrates using the by phrase of select to perform grouping. The basic usage is similar to GROUP BY in SQL, in which the column expressions involve aggregate functions. All records having common values in the by column(s) are grouped together and then aggregation is performed within each group"
   ]
  },
  {
   "cell_type": "code",
   "execution_count": 5,
   "metadata": {},
   "outputs": [
    {
     "data": {
      "text/plain": [
       "c2| c1 c3 \r\n",
       "--| ------\r\n",
       "a | 3  110\r\n",
       "b | 2  70 \r\n",
       "c | 1  30 \r\n"
      ]
     },
     "execution_count": 5,
     "metadata": {},
     "output_type": "execute_result"
    }
   ],
   "source": [
    "select count c1, sum c3 by c2 from t "
   ]
  },
  {
   "cell_type": "markdown",
   "metadata": {},
   "source": [
    "** An advantage of q-sql by is that you can group on a computed column. **"
   ]
  },
  {
   "cell_type": "code",
   "execution_count": 6,
   "metadata": {},
   "outputs": [
    {
     "data": {
      "text/plain": [
       "ovrund| c2\r\n",
       "------| --\r\n",
       "0     | 2 \r\n",
       "1     | 4 \r\n"
      ]
     },
     "execution_count": 6,
     "metadata": {},
     "output_type": "execute_result"
    }
   ],
   "source": [
    "select count c2 by ovrund:c3<=40 from t"
   ]
  },
  {
   "cell_type": "code",
   "execution_count": 7,
   "metadata": {},
   "outputs": [],
   "source": [
    "AA:select count c2 by ovrund:c3<=40 from t"
   ]
  },
  {
   "cell_type": "code",
   "execution_count": 8,
   "metadata": {},
   "outputs": [
    {
     "data": {
      "text/plain": [
       "ovrund|  \r\n",
       "------| -\r\n",
       "0     | 2\r\n",
       "1     | 4\r\n"
      ]
     },
     "execution_count": 8,
     "metadata": {},
     "output_type": "execute_result"
    }
   ],
   "source": [
    "AA[;`c2] / have to look later"
   ]
  },
  {
   "cell_type": "markdown",
   "metadata": {},
   "source": [
    "* Closely related to select is the update template. \n",
    "* It has the same syntax as select but semantically the names to the left of : are interpreted as columns to modify (or add, if not present).\n",
    "* As with select, you can specify an optional where phrase, which limits the action to just those records satisfying specified constraint(s). Here is how to scale the c3 column of t just in the positions having c2 equal to `a. "
   ]
  },
  {
   "cell_type": "code",
   "execution_count": 13,
   "metadata": {},
   "outputs": [
    {
     "data": {
      "text/plain": [
       "c1   c2 c3 c4 \r\n",
       "--------------\r\n",
       "1000 a  10 100\r\n",
       "1001 b  20    \r\n",
       "1002 c  30    \r\n",
       "1003 a  40 400\r\n",
       "1004 b  50    \r\n",
       "1005 a  60 600\r\n"
      ]
     },
     "execution_count": 13,
     "metadata": {},
     "output_type": "execute_result"
    }
   ],
   "source": [
    "update c4:10*c3 from t where c2=`a "
   ]
  },
  {
   "cell_type": "code",
   "execution_count": 14,
   "metadata": {},
   "outputs": [],
   "source": [
    "t1: update c4:10*c3 from t where c2=`a "
   ]
  },
  {
   "cell_type": "code",
   "execution_count": 18,
   "metadata": {},
   "outputs": [
    {
     "data": {
      "text/plain": [
       "c1| 1001\r\n",
       "c2| `b\r\n",
       "c3| 20\r\n",
       "c4| 0N\r\n"
      ]
     },
     "execution_count": 18,
     "metadata": {},
     "output_type": "execute_result"
    }
   ],
   "source": [
    "t1[1] /see the value of c4"
   ]
  },
  {
   "cell_type": "code",
   "execution_count": 10,
   "metadata": {},
   "outputs": [
    {
     "data": {
      "text/plain": [
       "c1   c2 c3\r\n",
       "----------\r\n",
       "1000 a  10\r\n",
       "1001 b  20\r\n",
       "1002 c  30\r\n",
       "1003 a  40\r\n",
       "1004 b  50\r\n",
       "1005 a  60\r\n"
      ]
     },
     "execution_count": 10,
     "metadata": {},
     "output_type": "execute_result"
    }
   ],
   "source": [
    "t /didnt modify the table tho"
   ]
  },
  {
   "cell_type": "markdown",
   "metadata": {},
   "source": [
    "* We emphasize that the operations in update are vector operations on columns, not row-by-row. \n",
    "* Not all of q-sql is included in the templates. For example, to sort a table ascending by column(s), use (xasc) with left operand the symbol column name(s) in major-to-minor order. "
   ]
  },
  {
   "cell_type": "code",
   "execution_count": 19,
   "metadata": {},
   "outputs": [
    {
     "data": {
      "text/plain": [
       "c1   c2 c3\r\n",
       "----------\r\n",
       "1000 a  10\r\n",
       "1003 a  40\r\n",
       "1005 a  60\r\n",
       "1001 b  20\r\n",
       "1004 b  50\r\n",
       "1002 c  30\r\n"
      ]
     },
     "execution_count": 19,
     "metadata": {},
     "output_type": "execute_result"
    }
   ],
   "source": [
    "`c2 xasc t "
   ]
  },
  {
   "cell_type": "code",
   "execution_count": null,
   "metadata": {},
   "outputs": [],
   "source": []
  }
 ],
 "metadata": {
  "kernelspec": {
   "display_name": "Q (kdb+)",
   "language": "q",
   "name": "qpk"
  },
  "language_info": {
   "file_extension": ".q",
   "mimetype": "text/x-q",
   "name": "q",
   "version": "3.6.0"
  }
 },
 "nbformat": 4,
 "nbformat_minor": 2
}
