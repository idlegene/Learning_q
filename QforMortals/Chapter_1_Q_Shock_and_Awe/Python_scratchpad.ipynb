{
 "cells": [
  {
   "cell_type": "code",
   "execution_count": 1,
   "metadata": {},
   "outputs": [],
   "source": [
    "import numpy as np"
   ]
  },
  {
   "cell_type": "code",
   "execution_count": 64,
   "metadata": {},
   "outputs": [],
   "source": [
    "def sample(num=1,variates=None,dist='normal'): \n",
    "    \"\"\"\n",
    "    variates is a numpy arary in m*n\n",
    "    where m is number of variables mean,variance for normal\n",
    "    lamda for poison\n",
    "    n = 1 or same as num\n",
    "    dist can be normal or poison\n",
    "    \"\"\"\n",
    "    if dist == 'normal':\n",
    "        if variates.ndim == 1:\n",
    "            return np.random.normal(loc=variates[0],scale=variates[1],size=num)\n",
    "        elif variates.ndim == 2:\n",
    "            return np.array([np.random.normal(loc=variates[i][0],scale=variates[i][1],size=num) for i in range(variates.shape[0])])\n",
    "        else:\n",
    "            print('for normal variates can be blah ')\n",
    "        \n",
    "    elif dist == 'poisson':\n",
    "        pass\n",
    "    else:\n",
    "        pass\n",
    "        "
   ]
  },
  {
   "cell_type": "code",
   "execution_count": 12,
   "metadata": {},
   "outputs": [],
   "source": [
    "vari = np.array(((1,1),(1,2)))"
   ]
  },
  {
   "cell_type": "code",
   "execution_count": 16,
   "metadata": {},
   "outputs": [
    {
     "data": {
      "text/plain": [
       "2"
      ]
     },
     "execution_count": 16,
     "metadata": {},
     "output_type": "execute_result"
    }
   ],
   "source": [
    "vari.ndim"
   ]
  },
  {
   "cell_type": "code",
   "execution_count": 11,
   "metadata": {},
   "outputs": [],
   "source": [
    "vari1 = np.array(((1,1)))"
   ]
  },
  {
   "cell_type": "code",
   "execution_count": 17,
   "metadata": {},
   "outputs": [
    {
     "data": {
      "text/plain": [
       "1"
      ]
     },
     "execution_count": 17,
     "metadata": {},
     "output_type": "execute_result"
    }
   ],
   "source": [
    "vari1.ndim"
   ]
  },
  {
   "cell_type": "code",
   "execution_count": 24,
   "metadata": {},
   "outputs": [
    {
     "data": {
      "text/plain": [
       "array([[-0.48944538, -0.4050775 , -0.04974176,  0.58250997,  2.02148986],\n",
       "       [ 2.71216519, -2.01314553,  5.5704412 ,  1.67436356,  3.7131774 ]])"
      ]
     },
     "execution_count": 24,
     "metadata": {},
     "output_type": "execute_result"
    }
   ],
   "source": [
    "sample(5,vari,'normal')"
   ]
  },
  {
   "cell_type": "code",
   "execution_count": 25,
   "metadata": {},
   "outputs": [
    {
     "data": {
      "text/plain": [
       "array([ 1.13810253,  1.76305377, -0.208989  ,  0.96658569,  2.42042442])"
      ]
     },
     "execution_count": 25,
     "metadata": {},
     "output_type": "execute_result"
    }
   ],
   "source": [
    "sample(5,vari1,'normal')"
   ]
  },
  {
   "cell_type": "code",
   "execution_count": 60,
   "metadata": {},
   "outputs": [],
   "source": [
    "vari3 = np.array([(np.random.randn(),np.abs(np.random.randn())) for i in range(15)])"
   ]
  },
  {
   "cell_type": "code",
   "execution_count": 61,
   "metadata": {},
   "outputs": [
    {
     "data": {
      "text/plain": [
       "array([[-0.24798021,  1.00517227],\n",
       "       [-1.02562006,  0.39486901],\n",
       "       [ 0.61230759,  0.15675861],\n",
       "       [ 0.69505484,  0.43186854],\n",
       "       [-0.77490919,  1.43894072],\n",
       "       [ 0.59840896,  2.18566642],\n",
       "       [ 1.96445877,  0.61435565],\n",
       "       [ 0.2608541 ,  0.87945517],\n",
       "       [ 0.38576686,  1.46952979],\n",
       "       [ 0.67240749,  1.0276105 ],\n",
       "       [ 0.19536421,  0.5685261 ],\n",
       "       [-2.99375895,  0.42493416],\n",
       "       [ 1.73592073,  0.62908046],\n",
       "       [ 2.9134351 ,  0.57422048],\n",
       "       [-0.669611  ,  1.44959783]])"
      ]
     },
     "execution_count": 61,
     "metadata": {},
     "output_type": "execute_result"
    }
   ],
   "source": [
    "vari3"
   ]
  },
  {
   "cell_type": "code",
   "execution_count": 65,
   "metadata": {},
   "outputs": [
    {
     "data": {
      "text/plain": [
       "array([[ 0.17158064,  0.59459815,  0.77512749,  0.2272634 ,  0.89479627],\n",
       "       [-0.24884058, -0.83655439, -1.42406695, -0.36693365, -1.05065357],\n",
       "       [ 0.49952905,  0.40109562,  0.52306388,  0.5024256 ,  0.39561773],\n",
       "       [ 0.26423196,  1.00996095,  1.40204782,  0.50157449,  0.52060045],\n",
       "       [ 2.29105611, -3.13581819, -0.03461337, -3.11370245, -1.63410854],\n",
       "       [-1.35778722,  1.90723277,  1.72432382, -0.19680273,  2.94720771],\n",
       "       [ 1.98318134,  2.46069803,  1.27118667,  2.50740022,  0.94036177],\n",
       "       [-1.20953309,  0.49992882,  0.49853915,  0.9075576 ,  0.2256967 ],\n",
       "       [ 0.42801964, -0.06485032, -1.12903552, -0.85564217, -0.80348024],\n",
       "       [ 1.87666357, -0.72572199,  0.39650348,  0.83847035, -0.86016287],\n",
       "       [ 0.83796124, -0.61432689,  0.06351116, -0.08038425, -0.13610586],\n",
       "       [-2.59825158, -3.63561799, -1.99406018, -2.52804404, -3.53352844],\n",
       "       [ 1.98064494,  1.05586503,  0.9359593 ,  1.86910224,  3.01375076],\n",
       "       [ 2.94395759,  2.60556793,  2.21502365,  2.26508758,  2.5324557 ],\n",
       "       [-0.17111608, -0.52056675,  0.24588233,  2.2495104 ,  0.04817127]])"
      ]
     },
     "execution_count": 65,
     "metadata": {},
     "output_type": "execute_result"
    }
   ],
   "source": [
    "sample(5,vari3,'normal')"
   ]
  },
  {
   "cell_type": "markdown",
   "metadata": {},
   "source": [
    "this is a test "
   ]
  },
  {
   "cell_type": "code",
   "execution_count": null,
   "metadata": {},
   "outputs": [],
   "source": []
  }
 ],
 "metadata": {
  "kernelspec": {
   "display_name": "Python 3",
   "language": "python",
   "name": "python3"
  },
  "language_info": {
   "codemirror_mode": {
    "name": "ipython",
    "version": 3
   },
   "file_extension": ".py",
   "mimetype": "text/x-python",
   "name": "python",
   "nbconvert_exporter": "python",
   "pygments_lexer": "ipython3",
   "version": "3.6.6"
  }
 },
 "nbformat": 4,
 "nbformat_minor": 2
}
