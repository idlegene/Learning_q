{
 "cells": [
  {
   "cell_type": "code",
   "execution_count": 2,
   "metadata": {},
   "outputs": [],
   "source": [
    "/ml.sample:\n",
    "/write the function in python first"
   ]
  },
  {
   "cell_type": "code",
   "execution_count": 5,
   "metadata": {},
   "outputs": [
    {
     "name": "stdout",
     "output_type": "stream",
     "text": [
      "[ 0.81339974  0.66769273 -1.69770501  0.33920065 -0.90966711  0.46096444\n",
      " -0.73898605  0.14015959  0.60437021 -0.70905935]\n"
     ]
    }
   ],
   "source": [
    "/%python\n",
    "import numpy as np\n",
    "def sample(num=1,variates,dist):\n",
    "    if dist == 'normal':"
   ]
  },
  {
   "cell_type": "code",
   "execution_count": 6,
   "metadata": {},
   "outputs": [
    {
     "name": "stdout",
     "output_type": "stream",
     "text": [
      "[ 0.81339974  0.66769273 -1.69770501  0.33920065 -0.90966711  0.46096444\n",
      " -0.73898605  0.14015959  0.60437021 -0.70905935]\n"
     ]
    }
   ],
   "source": [
    "p)print(a)"
   ]
  },
  {
   "cell_type": "code",
   "execution_count": null,
   "metadata": {
    "collapsed": true
   },
   "outputs": [],
   "source": []
  },
  {
   "cell_type": "code",
   "execution_count": null,
   "metadata": {},
   "outputs": [],
   "source": []
  },
  {
   "cell_type": "code",
   "execution_count": null,
   "metadata": {},
   "outputs": [],
   "source": []
  },
  {
   "cell_type": "code",
   "execution_count": null,
   "metadata": {},
   "outputs": [],
   "source": [
    "jjjjjjjjjwhen i typed in this letters\n",
    "then this is a typing test amd this isi giopn fine wi\n",
    "this is mot that great and this keyoard will get som,e time geting used to and this is ,, what i am typing with out a fullstop and this \n",
    "needs to stop and i need to get practice with this key board and this i will get used to and type fasterr and stronger and this is will be awseome.\n",
    "\n",
    "so i need to track down and probabl84then thisd and this will be the moment wher i type really slo"
   ]
  }
 ],
 "metadata": {
  "kernelspec": {
   "display_name": "Q (kdb+)",
   "language": "q",
   "name": "qpk"
  },
  "language_info": {
   "file_extension": ".q",
   "mimetype": "text/x-q",
   "name": "q",
   "version": "3.6.0"
  }
 },
 "nbformat": 4,
 "nbformat_minor": 2
}
