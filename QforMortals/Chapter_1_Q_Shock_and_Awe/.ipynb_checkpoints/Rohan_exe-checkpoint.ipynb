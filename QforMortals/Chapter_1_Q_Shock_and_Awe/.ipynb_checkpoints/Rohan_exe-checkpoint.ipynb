{
 "cells": [
  {
   "cell_type": "code",
   "execution_count": 2,
   "metadata": {},
   "outputs": [],
   "source": [
    "/ml.sample:\n",
    "/write the function in python first"
   ]
  },
  {
   "cell_type": "code",
   "execution_count": 5,
   "metadata": {},
   "outputs": [
    {
     "name": "stdout",
     "output_type": "stream",
     "text": [
      "[ 0.81339974  0.66769273 -1.69770501  0.33920065 -0.90966711  0.46096444\n",
      " -0.73898605  0.14015959  0.60437021 -0.70905935]\n"
     ]
    }
   ],
   "source": [
    "/%python\n",
    "import numpy as np\n",
    "def sample(num=1,variates,dist):\n",
    "    if dist == 'normal':"
   ]
  },
  {
   "cell_type": "code",
   "execution_count": 6,
   "metadata": {},
   "outputs": [
    {
     "name": "stdout",
     "output_type": "stream",
     "text": [
      "[ 0.81339974  0.66769273 -1.69770501  0.33920065 -0.90966711  0.46096444\n",
      " -0.73898605  0.14015959  0.60437021 -0.70905935]\n"
     ]
    }
   ],
   "source": [
    "p)print(a)"
   ]
  },
  {
   "cell_type": "code",
   "execution_count": null,
   "metadata": {},
   "outputs": [],
   "source": []
  }
 ],
 "metadata": {
  "kernelspec": {
   "display_name": "Q (kdb+)",
   "language": "q",
   "name": "qpk"
  },
  "language_info": {
   "file_extension": ".q",
   "mimetype": "text/x-q",
   "name": "q",
   "version": "3.6.0"
  }
 },
 "nbformat": 4,
 "nbformat_minor": 2
}
