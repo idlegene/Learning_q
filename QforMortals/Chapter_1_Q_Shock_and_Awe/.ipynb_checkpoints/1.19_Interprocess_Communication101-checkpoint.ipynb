{
 "cells": [
  {
   "cell_type": "markdown",
   "metadata": {},
   "source": [
    "1.19 Interprocess Communication101 \n",
    "--\n",
    "For this section, you will need two open q sessions, best done on the same machine. We recommend that this machine be one that is not encumbered with enterprise security. Chose one session to be your “server” and open a port with the command \\p (note lower case) followed by the port number. To verify that the port is open, execute the naked command \\p and check that it echoes a 32-bit int of the port you opened. "
   ]
  },
  {
   "cell_type": "code",
   "execution_count": 1,
   "metadata": {},
   "outputs": [
    {
     "data": {
      "text/plain": [
       "5042i\r\n"
      ]
     },
     "execution_count": 1,
     "metadata": {},
     "output_type": "execute_result"
    }
   ],
   "source": [
    "q)\\p 5042 / on server\n",
    "q)\\p\n",
    "\\"
   ]
  },
  {
   "cell_type": "code",
   "execution_count": 2,
   "metadata": {},
   "outputs": [],
   "source": [
    "\\ in cmd prompt run the folwing"
   ]
  },
  {
   "cell_type": "markdown",
   "metadata": {},
   "source": [
    "```\n",
    "q)h:hopen `:localhost:5042 / on client\n",
    "```"
   ]
  },
  {
   "cell_type": "markdown",
   "metadata": {},
   "source": [
    "To open a connection, use a symbolic handle as argument to hopen and store the result in a variable, traditionally called h. Do that now in your \"client\" session after ensuring that the specified port is open in the \"server\" session.\n",
    "\n",
    "```\n",
    "q)h:hopen `:localhost:5042 / on client\n",
    "\n",
    "```\n",
    "\n",
    "The variable h is called an open handle. It holds a function for sending a request to the server and receiving the result of that request. Now we're ready to party.\n",
    "There are three ways to send requests from the client to the server, only one of which is safe for production applications. For demonstration purpose (only), we show the simplest, which should only be used in development environments. When invoked with a string – i.e., a list of chars – argument, the handle function h synchronously sends that string to the server, where it is executed, and any result is returned from the application of h.\n",
    "\n",
    "```\n",
    "q)h \"6*7\" / on client\n",
    "42\n",
    "\n",
    "\n",
    "```\n",
    "Clearly this isn't safe, as arbitrary text can be sent for nefarious purposes.\n",
    "A safer way to make requests to the server is to invoke h with a list containing the name of a function that (presumably) exists on the server, followed by arguments to that function. When h is invoked with such a list argument, it (synchronously) causes the server to apply the named function to the transmitted arguments, and then returns any result from the server is its own output. This corresponds to call-by-name in a traditional remote-procedure call. It is safer since the server can inspect the symbolic function name and determine whether the requesting user is authorized to execute it. \n",
    "\n",
    "\n",
    "On your server process, create a simple function of two arguments.\n",
    "\n",
    "```\n",
    "q)f:{x*y} / on server\n",
    "```\n",
    "\n",
    "On your client process, invoke h with a list containing the symbolic name of the remote function followed by its two arguments.\n",
    "\n",
    "```\n",
    "q)h (`f; 6; 7) / on client\n",
    "```\n",
    "\n",
    "Observe that nothing is displayed on the server console since the function application there returns its result to the client. To close the connection with the server, flush buffers and free resources, apply hclose to the open handle.\n",
    "\n",
    "```\n",
    "q)hclose h / on client\n",
    "```\n",
    "\n",
    "\n",
    "IPC doesn't get any easier."
   ]
  },
  {
   "cell_type": "code",
   "execution_count": 25,
   "metadata": {},
   "outputs": [],
   "source": [
    "q)f:{x*y} / on server"
   ]
  },
  {
   "attachments": {
    "image.png": {
     "image/png": "[encoded data removed]"
    }
   },
   "cell_type": "markdown",
   "metadata": {},
   "source": [
    "![image.png](attachment:image.png)"
   ]
  },
  {
   "cell_type": "code",
   "execution_count": null,
   "metadata": {},
   "outputs": [],
   "source": [
    "/ End"
   ]
  },
  {
   "cell_type": "markdown",
   "metadata": {},
   "source": [
    "### END "
   ]
  },
  {
   "cell_type": "code",
   "execution_count": null,
   "metadata": {},
   "outputs": [],
   "source": []
  },
  {
   "cell_type": "code",
   "execution_count": null,
   "metadata": {},
   "outputs": [],
   "source": []
  }
 ],
 "metadata": {
  "kernelspec": {
   "display_name": "Q (kdb+)",
   "language": "q",
   "name": "qpk"
  },
  "language_info": {
   "file_extension": ".q",
   "mimetype": "text/x-q",
   "name": "q",
   "version": "3.6.0"
  }
 },
 "nbformat": 4,
 "nbformat_minor": 2
}
