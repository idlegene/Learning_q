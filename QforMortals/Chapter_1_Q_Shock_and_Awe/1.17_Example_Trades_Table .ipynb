{
 "cells": [
  {
   "cell_type": "markdown",
   "metadata": {},
   "source": [
    "## 1.17 Example: Trades Table  "
   ]
  },
  {
   "cell_type": "markdown",
   "metadata": {},
   "source": [
    "In this section we construct a toy trades table to demonstrate the power of q-sql. \n",
    "\n",
    "￼A useful operator for constructing lists of test data is (?), which generates pseudo-random data. We can generate 10 numbers randomly selected, with replacement, from the first 20 integers starting at 0 (i.e., not including 20). "
   ]
  },
  {
   "cell_type": "code",
   "execution_count": 1,
   "metadata": {},
   "outputs": [
    {
     "data": {
      "text/plain": [
       "12 8 10 1 9 11 5 6 1 5\r\n"
      ]
     },
     "execution_count": 1,
     "metadata": {},
     "output_type": "execute_result"
    }
   ],
   "source": [
    "10?20 / ymmv "
   ]
  },
  {
   "cell_type": "code",
   "execution_count": 2,
   "metadata": {},
   "outputs": [
    {
     "data": {
      "text/plain": [
       "0000000000b\r\n"
      ]
     },
     "execution_count": 2,
     "metadata": {},
     "output_type": "execute_result"
    }
   ],
   "source": [
    "10?20 = 10?20"
   ]
  },
  {
   "cell_type": "markdown",
   "metadata": {},
   "source": [
    "We can similarly generate 10 random floats between 0.0 and 100.0 (not including 100.0). "
   ]
  },
  {
   "cell_type": "code",
   "execution_count": 3,
   "metadata": {},
   "outputs": [
    {
     "data": {
      "text/plain": [
       "19.46509 9.059026 62.03014 93.26316 27.47066 5.752516 25.60658 23.10108 8.724..\r\n"
      ]
     },
     "execution_count": 3,
     "metadata": {},
     "output_type": "execute_result"
    }
   ],
   "source": [
    "10?100.0"
   ]
  },
  {
   "cell_type": "code",
   "execution_count": 6,
   "metadata": {},
   "outputs": [
    {
     "data": {
      "text/plain": [
       "`two`one`two`one`one`two`two`one`two`one\r\n"
      ]
     },
     "execution_count": 6,
     "metadata": {},
     "output_type": "execute_result"
    },
    {
     "data": {
      "text/plain": [
       "`1`one`one`one`1`one`1`one`one`1\r\n"
      ]
     },
     "execution_count": 6,
     "metadata": {},
     "output_type": "execute_result"
    }
   ],
   "source": [
    "/We can make 10 random selections from the items in a list \n",
    "10?(`one;`two)\n",
    "10?`one`1"
   ]
  },
  {
   "cell_type": "markdown",
   "metadata": {},
   "source": [
    "\n",
    "Now to our trades table. Since a table is a collection of columns, we first build the columns. We apologize for using excessively short names so that things fit easily on the printed page. \n",
    "First we construct a list of 1,000,000 random dates in the month of January 2015. "
   ]
  },
  {
   "cell_type": "code",
   "execution_count": 7,
   "metadata": {},
   "outputs": [],
   "source": [
    "dts:2015.01.01+1000000?31"
   ]
  },
  {
   "cell_type": "code",
   "execution_count": 8,
   "metadata": {},
   "outputs": [
    {
     "data": {
      "text/plain": [
       "2015.01.22 2015.01.03 2015.01.28 2015.01.31 2015.01.20 2015.01.29 2015.01.13 ..\r\n"
      ]
     },
     "execution_count": 8,
     "metadata": {},
     "output_type": "execute_result"
    }
   ],
   "source": [
    "dts"
   ]
  },
  {
   "cell_type": "code",
   "execution_count": 9,
   "metadata": {},
   "outputs": [],
   "source": [
    "tms:1000000?24:00:00.000000000"
   ]
  },
  {
   "cell_type": "code",
   "execution_count": 10,
   "metadata": {},
   "outputs": [],
   "source": [
    "/Next a list of 1,000,000 tickers chosen from AAPL, GOOG and IBM. It is customary to make these lower case symbols. "
   ]
  },
  {
   "cell_type": "code",
   "execution_count": 11,
   "metadata": {},
   "outputs": [],
   "source": [
    "syms:1000000?`aapl`goog`ibm"
   ]
  },
  {
   "cell_type": "code",
   "execution_count": 12,
   "metadata": {},
   "outputs": [],
   "source": [
    "/Next a list of 1,000,000 volumes given as positive lots of 10\n",
    "vols:10*1+1000000?1000"
   ]
  },
  {
   "cell_type": "markdown",
   "metadata": {},
   "source": [
    "As an initial cut, we construct a list of 1,000,000 prices in cents uniformly distributed within 10% of 100.0. We will adjust this later. "
   ]
  },
  {
   "cell_type": "code",
   "execution_count": 14,
   "metadata": {},
   "outputs": [],
   "source": [
    "pxs:90.0+(1000000?2001)%100"
   ]
  },
  {
   "cell_type": "code",
   "execution_count": 13,
   "metadata": {},
   "outputs": [],
   "source": [
    "/Now collect these into a table and inspect the first 5 records. Remember, a table is a list of records so (#) applies."
   ]
  },
  {
   "cell_type": "code",
   "execution_count": 15,
   "metadata": {},
   "outputs": [],
   "source": [
    "trades:([] dt:dts; tm:tms; sym:syms; vol:vols; px:pxs) "
   ]
  },
  {
   "cell_type": "code",
   "execution_count": 16,
   "metadata": {},
   "outputs": [
    {
     "data": {
      "text/plain": [
       "dt         tm                   sym  vol  px    \r\n",
       "------------------------------------------------\r\n",
       "2015.01.22 0D04:51:10.908354967 goog 4080 91.45 \r\n",
       "2015.01.03 0D18:51:07.332527786 ibm  7180 94.26 \r\n",
       "2015.01.28 0D23:10:38.237247616 aapl 1000 102.94\r\n",
       "2015.01.31 0D21:43:55.479589551 aapl 8200 92.56 \r\n",
       "2015.01.20 0D01:26:24.385518729 ibm  3650 92.4  \r\n"
      ]
     },
     "execution_count": 16,
     "metadata": {},
     "output_type": "execute_result"
    }
   ],
   "source": [
    "5#trades"
   ]
  },
  {
   "cell_type": "markdown",
   "metadata": {},
   "source": [
    "The first thing you observe in your console display is that the trades are not in temporal order. We fix this by sorting on time within date using (xasc). "
   ]
  },
  {
   "cell_type": "code",
   "execution_count": 17,
   "metadata": {},
   "outputs": [],
   "source": [
    "trades:`dt`tm xasc trades "
   ]
  },
  {
   "cell_type": "code",
   "execution_count": 18,
   "metadata": {},
   "outputs": [
    {
     "data": {
      "text/plain": [
       "dt         tm                   sym  vol  px    \r\n",
       "------------------------------------------------\r\n",
       "2015.01.01 0D00:00:07.004971057 goog 3240 93.67 \r\n",
       "2015.01.01 0D00:00:09.415197372 goog 910  90.8  \r\n",
       "2015.01.01 0D00:00:13.514088839 ibm  8180 107.25\r\n",
       "2015.01.01 0D00:00:14.056894183 ibm  1190 94.72 \r\n",
       "2015.01.01 0D00:00:15.205892175 aapl 8940 97.69 \r\n"
      ]
     },
     "execution_count": 18,
     "metadata": {},
     "output_type": "execute_result"
    }
   ],
   "source": [
    "5#trades"
   ]
  },
  {
   "cell_type": "markdown",
   "metadata": {},
   "source": [
    "Now we adjust the prices. At the time of this writing (Sep 2015) AAPL was trading around 100, so we leave it alone. But we adjust GOOG and IBM to their approximate trading ranges by scaling. "
   ]
  },
  {
   "cell_type": "code",
   "execution_count": 19,
   "metadata": {},
   "outputs": [],
   "source": [
    "trades:update px:6*px from trades where sym=`goog"
   ]
  },
  {
   "cell_type": "code",
   "execution_count": 20,
   "metadata": {},
   "outputs": [
    {
     "data": {
      "text/plain": [
       "dt         tm                   sym  vol  px    \r\n",
       "------------------------------------------------\r\n",
       "2015.01.01 0D00:00:07.004971057 goog 3240 562.02\r\n",
       "2015.01.01 0D00:00:09.415197372 goog 910  544.8 \r\n",
       "2015.01.01 0D00:00:13.514088839 ibm  8180 107.25\r\n",
       "2015.01.01 0D00:00:14.056894183 ibm  1190 94.72 \r\n",
       "2015.01.01 0D00:00:15.205892175 aapl 8940 97.69 \r\n"
      ]
     },
     "execution_count": 20,
     "metadata": {},
     "output_type": "execute_result"
    }
   ],
   "source": [
    "5#trades"
   ]
  },
  {
   "cell_type": "code",
   "execution_count": 21,
   "metadata": {},
   "outputs": [],
   "source": [
    "trades:update px:2*px from trades where sym=`ibm"
   ]
  },
  {
   "cell_type": "code",
   "execution_count": 22,
   "metadata": {},
   "outputs": [
    {
     "data": {
      "text/plain": [
       "dt         tm                   sym  vol  px    \r\n",
       "------------------------------------------------\r\n",
       "2015.01.01 0D00:00:07.004971057 goog 3240 562.02\r\n",
       "2015.01.01 0D00:00:09.415197372 goog 910  544.8 \r\n",
       "2015.01.01 0D00:00:13.514088839 ibm  8180 214.5 \r\n",
       "2015.01.01 0D00:00:14.056894183 ibm  1190 189.44\r\n",
       "2015.01.01 0D00:00:15.205892175 aapl 8940 97.69 \r\n"
      ]
     },
     "execution_count": 22,
     "metadata": {},
     "output_type": "execute_result"
    }
   ],
   "source": [
    "5#trades "
   ]
  },
  {
   "cell_type": "markdown",
   "metadata": {},
   "source": [
    "This looks a bit more like real trades. Let’s perform some basic queries as sanity checks. Given that both price and volume are uniformly distributed, we expect their averages to approximate the mean. Using the built-in average function (avg) we see that they do. "
   ]
  },
  {
   "cell_type": "code",
   "execution_count": 23,
   "metadata": {},
   "outputs": [
    {
     "data": {
      "text/plain": [
       "sym | px       vol     \r\n",
       "----| -----------------\r\n",
       "aapl| 99.9981  5009.882\r\n",
       "goog| 600.0105 5004.941\r\n",
       "ibm | 200.024  5005.35 \r\n"
      ]
     },
     "execution_count": 23,
     "metadata": {},
     "output_type": "execute_result"
    }
   ],
   "source": [
    "select avg px, avg vol by sym from trades "
   ]
  },
  {
   "cell_type": "markdown",
   "metadata": {},
   "source": [
    "Similarly, we expect the minimum and maximum price for each symbol to be the endpoints of the uniform range."
   ]
  },
  {
   "cell_type": "code",
   "execution_count": 24,
   "metadata": {},
   "outputs": [
    {
     "data": {
      "text/plain": [
       "sym | px  px1\r\n",
       "----| -------\r\n",
       "aapl| 90  110\r\n",
       "goog| 540 660\r\n",
       "ibm | 180 220\r\n"
      ]
     },
     "execution_count": 24,
     "metadata": {},
     "output_type": "execute_result"
    }
   ],
   "source": [
    "select min px, max px by sym from trades "
   ]
  },
  {
   "cell_type": "code",
   "execution_count": null,
   "metadata": {},
   "outputs": [],
   "source": []
  },
  {
   "cell_type": "code",
   "execution_count": null,
   "metadata": {},
   "outputs": [],
   "source": []
  },
  {
   "cell_type": "code",
   "execution_count": null,
   "metadata": {},
   "outputs": [],
   "source": []
  },
  {
   "cell_type": "code",
   "execution_count": null,
   "metadata": {},
   "outputs": [],
   "source": []
  },
  {
   "cell_type": "code",
   "execution_count": null,
   "metadata": {},
   "outputs": [],
   "source": []
  },
  {
   "cell_type": "code",
   "execution_count": null,
   "metadata": {},
   "outputs": [],
   "source": []
  },
  {
   "cell_type": "code",
   "execution_count": null,
   "metadata": {},
   "outputs": [],
   "source": []
  },
  {
   "cell_type": "code",
   "execution_count": null,
   "metadata": {},
   "outputs": [],
   "source": []
  }
 ],
 "metadata": {
  "kernelspec": {
   "display_name": "Q (kdb+)",
   "language": "q",
   "name": "qpk"
  },
  "language_info": {
   "file_extension": ".q",
   "mimetype": "text/x-q",
   "name": "q",
   "version": "3.6.0"
  }
 },
 "nbformat": 4,
 "nbformat_minor": 2
}
