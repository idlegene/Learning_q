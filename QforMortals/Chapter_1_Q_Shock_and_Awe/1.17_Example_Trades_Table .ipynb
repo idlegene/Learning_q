{
 "cells": [
  {
   "cell_type": "markdown",
   "metadata": {},
   "source": [
    "## 1.17 Example: Trades Table  "
   ]
  },
  {
   "cell_type": "markdown",
   "metadata": {},
   "source": [
    "In this section we construct a toy trades table to demonstrate the power of q-sql. \n",
    "\n",
    "￼A useful operator for constructing lists of test data is (?), which generates pseudo-random data. We can generate 10 numbers randomly selected, with replacement, from the first 20 integers starting at 0 (i.e., not including 20). "
   ]
  },
  {
   "cell_type": "code",
   "execution_count": 1,
   "metadata": {},
   "outputs": [
    {
     "data": {
      "text/plain": [
       "12 8 10 1 9 11 5 6 1 5\r\n"
      ]
     },
     "execution_count": 1,
     "metadata": {},
     "output_type": "execute_result"
    }
   ],
   "source": [
    "10?20 / ymmv "
   ]
  },
  {
   "cell_type": "code",
   "execution_count": 2,
   "metadata": {},
   "outputs": [
    {
     "data": {
      "text/plain": [
       "0000000000b\r\n"
      ]
     },
     "execution_count": 2,
     "metadata": {},
     "output_type": "execute_result"
    }
   ],
   "source": [
    "10?20 = 10?20"
   ]
  },
  {
   "cell_type": "markdown",
   "metadata": {},
   "source": [
    "We can similarly generate 10 random floats between 0.0 and 100.0 (not including 100.0). "
   ]
  },
  {
   "cell_type": "code",
   "execution_count": 3,
   "metadata": {},
   "outputs": [
    {
     "data": {
      "text/plain": [
       "19.46509 9.059026 62.03014 93.26316 27.47066 5.752516 25.60658 23.10108 8.724..\r\n"
      ]
     },
     "execution_count": 3,
     "metadata": {},
     "output_type": "execute_result"
    }
   ],
   "source": [
    "10?100.0"
   ]
  },
  {
   "cell_type": "code",
   "execution_count": 4,
   "metadata": {},
   "outputs": [
    {
     "data": {
      "text/plain": [
       "`two`one`two`two`two`two`one`one`one`two\r\n"
      ]
     },
     "execution_count": 4,
     "metadata": {},
     "output_type": "execute_result"
    },
    {
     "data": {
      "text/plain": [
       "`one`one`one`one`one`1`one`1`one`1\r\n"
      ]
     },
     "execution_count": 4,
     "metadata": {},
     "output_type": "execute_result"
    }
   ],
   "source": [
    "/We can make 10 random selections from the items in a list \n",
    "10?(`one;`two)\n",
    "10?`one`1"
   ]
  },
  {
   "cell_type": "markdown",
   "metadata": {},
   "source": [
    "\n",
    "Now to our trades table. Since a table is a collection of columns, we first build the columns. We apologize for using excessively short names so that things fit easily on the printed page. \n",
    "First we construct a list of 1,000,000 random dates in the month of January 2015. "
   ]
  },
  {
   "cell_type": "code",
   "execution_count": 5,
   "metadata": {},
   "outputs": [],
   "source": [
    "dts:2015.01.01+1000000?31"
   ]
  },
  {
   "cell_type": "code",
   "execution_count": 6,
   "metadata": {},
   "outputs": [
    {
     "data": {
      "text/plain": [
       "2015.01.28 2015.01.19 2015.01.16 2015.01.27 2015.01.09 2015.01.30 2015.01.14 ..\r\n"
      ]
     },
     "execution_count": 6,
     "metadata": {},
     "output_type": "execute_result"
    }
   ],
   "source": [
    "dts"
   ]
  },
  {
   "cell_type": "code",
   "execution_count": 7,
   "metadata": {},
   "outputs": [],
   "source": [
    "tms:1000000?24:00:00.000000000"
   ]
  },
  {
   "cell_type": "code",
   "execution_count": 8,
   "metadata": {},
   "outputs": [],
   "source": [
    "/Next a list of 1,000,000 tickers chosen from AAPL, GOOG and IBM. It is customary to make these lower case symbols. "
   ]
  },
  {
   "cell_type": "code",
   "execution_count": 9,
   "metadata": {},
   "outputs": [],
   "source": [
    "syms:1000000?`aapl`goog`ibm"
   ]
  },
  {
   "cell_type": "code",
   "execution_count": 10,
   "metadata": {},
   "outputs": [],
   "source": [
    "/Next a list of 1,000,000 volumes given as positive lots of 10\n",
    "vols:10*1+1000000?1000"
   ]
  },
  {
   "cell_type": "markdown",
   "metadata": {},
   "source": [
    "As an initial cut, we construct a list of 1,000,000 prices in cents uniformly distributed within 10% of 100.0. We will adjust this later. "
   ]
  },
  {
   "cell_type": "code",
   "execution_count": 11,
   "metadata": {},
   "outputs": [],
   "source": [
    "pxs:90.0+(1000000?2001)%100"
   ]
  },
  {
   "cell_type": "code",
   "execution_count": 12,
   "metadata": {},
   "outputs": [],
   "source": [
    "/Now collect these into a table and inspect the first 5 records. Remember, a table is a list of records so (#) applies."
   ]
  },
  {
   "cell_type": "code",
   "execution_count": 13,
   "metadata": {},
   "outputs": [],
   "source": [
    "trades:([] dt:dts; tm:tms; sym:syms; vol:vols; px:pxs) "
   ]
  },
  {
   "cell_type": "code",
   "execution_count": 14,
   "metadata": {},
   "outputs": [
    {
     "data": {
      "text/plain": [
       "dt         tm                   sym  vol  px    \r\n",
       "------------------------------------------------\r\n",
       "2015.01.28 0D10:54:28.956224620 goog 3650 92.38 \r\n",
       "2015.01.19 0D19:56:35.270023494 aapl 9470 96.03 \r\n",
       "2015.01.16 0D03:10:49.227076023 aapl 9350 99.66 \r\n",
       "2015.01.27 0D03:10:07.354279607 aapl 7990 108.14\r\n",
       "2015.01.09 0D16:28:56.131688207 goog 2710 104.05\r\n"
      ]
     },
     "execution_count": 14,
     "metadata": {},
     "output_type": "execute_result"
    }
   ],
   "source": [
    "5#trades"
   ]
  },
  {
   "cell_type": "markdown",
   "metadata": {},
   "source": [
    "The first thing you observe in your console display is that the trades are not in temporal order. We fix this by sorting on time within date using (xasc). "
   ]
  },
  {
   "cell_type": "code",
   "execution_count": 15,
   "metadata": {},
   "outputs": [],
   "source": [
    "trades:`dt`tm xasc trades "
   ]
  },
  {
   "cell_type": "code",
   "execution_count": 16,
   "metadata": {},
   "outputs": [
    {
     "data": {
      "text/plain": [
       "dt         tm                   sym  vol  px    \r\n",
       "------------------------------------------------\r\n",
       "2015.01.01 0D00:00:07.004971057 aapl 570  108.14\r\n",
       "2015.01.01 0D00:00:09.415197372 goog 9030 104.89\r\n",
       "2015.01.01 0D00:00:13.514088839 ibm  6180 93.07 \r\n",
       "2015.01.01 0D00:00:14.056894183 ibm  8870 90.76 \r\n",
       "2015.01.01 0D00:00:15.205892175 aapl 5480 103.47\r\n"
      ]
     },
     "execution_count": 16,
     "metadata": {},
     "output_type": "execute_result"
    }
   ],
   "source": [
    "5#trades"
   ]
  },
  {
   "cell_type": "markdown",
   "metadata": {},
   "source": [
    "Now we adjust the prices. At the time of this writing (Sep 2015) AAPL was trading around 100, so we leave it alone. But we adjust GOOG and IBM to their approximate trading ranges by scaling. "
   ]
  },
  {
   "cell_type": "code",
   "execution_count": 17,
   "metadata": {},
   "outputs": [],
   "source": [
    "trades:update px:6*px from trades where sym=`goog"
   ]
  },
  {
   "cell_type": "code",
   "execution_count": 18,
   "metadata": {},
   "outputs": [
    {
     "data": {
      "text/plain": [
       "dt         tm                   sym  vol  px    \r\n",
       "------------------------------------------------\r\n",
       "2015.01.01 0D00:00:07.004971057 aapl 570  108.14\r\n",
       "2015.01.01 0D00:00:09.415197372 goog 9030 629.34\r\n",
       "2015.01.01 0D00:00:13.514088839 ibm  6180 93.07 \r\n",
       "2015.01.01 0D00:00:14.056894183 ibm  8870 90.76 \r\n",
       "2015.01.01 0D00:00:15.205892175 aapl 5480 103.47\r\n"
      ]
     },
     "execution_count": 18,
     "metadata": {},
     "output_type": "execute_result"
    }
   ],
   "source": [
    "5#trades"
   ]
  },
  {
   "cell_type": "code",
   "execution_count": 19,
   "metadata": {},
   "outputs": [],
   "source": [
    "trades:update px:2*px from trades where sym=`ibm"
   ]
  },
  {
   "cell_type": "code",
   "execution_count": 20,
   "metadata": {},
   "outputs": [
    {
     "data": {
      "text/plain": [
       "dt         tm                   sym  vol  px    \r\n",
       "------------------------------------------------\r\n",
       "2015.01.01 0D00:00:07.004971057 aapl 570  108.14\r\n",
       "2015.01.01 0D00:00:09.415197372 goog 9030 629.34\r\n",
       "2015.01.01 0D00:00:13.514088839 ibm  6180 186.14\r\n",
       "2015.01.01 0D00:00:14.056894183 ibm  8870 181.52\r\n",
       "2015.01.01 0D00:00:15.205892175 aapl 5480 103.47\r\n"
      ]
     },
     "execution_count": 20,
     "metadata": {},
     "output_type": "execute_result"
    }
   ],
   "source": [
    "5#trades "
   ]
  },
  {
   "cell_type": "markdown",
   "metadata": {},
   "source": [
    "This looks a bit more like real trades. Let’s perform some basic queries as sanity checks. Given that both price and volume are uniformly distributed, we expect their averages to approximate the mean. Using the built-in average function (avg) we see that they do. "
   ]
  },
  {
   "cell_type": "code",
   "execution_count": 21,
   "metadata": {},
   "outputs": [
    {
     "data": {
      "text/plain": [
       "sym | px       vol     \r\n",
       "----| -----------------\r\n",
       "aapl| 100.0127 5001.963\r\n",
       "goog| 600.0906 5001.169\r\n",
       "ibm | 199.9685 5016.99 \r\n"
      ]
     },
     "execution_count": 21,
     "metadata": {},
     "output_type": "execute_result"
    }
   ],
   "source": [
    "select avg px, avg vol by sym from trades "
   ]
  },
  {
   "cell_type": "markdown",
   "metadata": {},
   "source": [
    "Similarly, we expect the minimum and maximum price for each symbol to be the endpoints of the uniform range."
   ]
  },
  {
   "cell_type": "code",
   "execution_count": 22,
   "metadata": {},
   "outputs": [
    {
     "data": {
      "text/plain": [
       "sym | px  px1\r\n",
       "----| -------\r\n",
       "aapl| 90  110\r\n",
       "goog| 540 660\r\n",
       "ibm | 180 220\r\n"
      ]
     },
     "execution_count": 22,
     "metadata": {},
     "output_type": "execute_result"
    }
   ],
   "source": [
    "select min px, max px by sym from trades "
   ]
  },
  {
   "cell_type": "markdown",
   "metadata": {},
   "source": [
    "Our first non-trivial query computes the 100 millisecond bucketed volume-weighted average price (VWAP). This uses the built-in dyadic function (xbar). The left operand of (xbar) is an interval width and the right operand is a list of numeric values. The effect of (xbar) is to shove each input to the left-hand end point of the interval of specified width in which it falls. For example"
   ]
  },
  {
   "cell_type": "code",
   "execution_count": 23,
   "metadata": {},
   "outputs": [
    {
     "data": {
      "text/plain": [
       "0 0 0 0 0 5 5 5 5 5 10 10 10 10 10\r\n"
      ]
     },
     "execution_count": 23,
     "metadata": {},
     "output_type": "execute_result"
    }
   ],
   "source": [
    "5 xbar til 15"
   ]
  },
  {
   "cell_type": "code",
   "execution_count": 24,
   "metadata": {},
   "outputs": [
    {
     "data": {
      "text/plain": [
       "0 0 0 0 0 0 0 0 0 0 10 10 10 10 10 10 10 10 10 10 20 20 20 20 20 20 20 20 20 20\r\n"
      ]
     },
     "execution_count": 24,
     "metadata": {},
     "output_type": "execute_result"
    }
   ],
   "source": [
    "10 xbar til 30"
   ]
  },
  {
   "cell_type": "markdown",
   "metadata": {},
   "source": [
    "This is useful for grouping since it effectively buckets all the values within each interval to the left end-point of that interval. Recalling that a timespan is actually an integral count of nanoseconds since midnight, to compute 100 millisecond buckets we will use (‘’’xbar’’’) with an interval of 100,000,000. \n",
    "\n",
    "We also require (‘’’wavg’’’), a dyadic function that computes the average of the numeric values in its right operand weighted by the values of its left operand. "
   ]
  },
  {
   "cell_type": "code",
   "execution_count": 25,
   "metadata": {},
   "outputs": [
    {
     "data": {
      "text/plain": [
       "63.33333\r\n"
      ]
     },
     "execution_count": 25,
     "metadata": {},
     "output_type": "execute_result"
    }
   ],
   "source": [
    "1 2 3 wavg 50 60 70"
   ]
  },
  {
   "cell_type": "code",
   "execution_count": 26,
   "metadata": {},
   "outputs": [
    {
     "data": {
      "text/plain": [
       "66.66667\r\n"
      ]
     },
     "execution_count": 26,
     "metadata": {},
     "output_type": "execute_result"
    }
   ],
   "source": [
    "1 2 9 wavg 50 60 70"
   ]
  },
  {
   "cell_type": "code",
   "execution_count": 27,
   "metadata": {},
   "outputs": [
    {
     "data": {
      "text/plain": [
       "55.33333\r\n"
      ]
     },
     "execution_count": 27,
     "metadata": {},
     "output_type": "execute_result"
    }
   ],
   "source": [
    "10 2 3 wavg 50 60 70"
   ]
  },
  {
   "cell_type": "code",
   "execution_count": 28,
   "metadata": {},
   "outputs": [
    {
     "data": {
      "text/plain": [
       "sym  bkt                 | vwap    \r\n",
       "-------------------------| --------\r\n",
       "aapl 0D00:00:00.000000000| 105.47  \r\n",
       "aapl 0D00:00:00.300000000| 109.67  \r\n",
       "aapl 0D00:00:00.400000000| 98.37   \r\n",
       "aapl 0D00:00:00.600000000| 97.58849\r\n",
       "aapl 0D00:00:01.100000000| 95.0323 \r\n"
      ]
     },
     "execution_count": 28,
     "metadata": {},
     "output_type": "execute_result"
    }
   ],
   "source": [
    "5#(select vwap:vol wavg px by sym,bkt:100000000 xbar tm from trades)"
   ]
  },
  {
   "cell_type": "markdown",
   "metadata": {},
   "source": [
    "That’s all there is to it! \n",
    "\n",
    "Our final query involves the maximum profit (or analogously, maximum drawdown) realizable over the trading period. To understand the concept, image that you have a DeLorean with flux capacitor and are able to travel into the future and record historical trade results. Upon returning to the present, you are given $1,000,000 to invest with the stipulation that you can make one buy and one sell for AAPL and you are not allowed to short the stock. As a good capitalist your goal is to maximize your profit. \n",
    "\n",
    "Restating the problem, we wish to determine the optimum time to buy and sell for the largest (positive) difference in price, where the buy precedes the sell. We state the solution as a q koan, which you should contemplate until enlightenmen"
   ]
  },
  {
   "cell_type": "code",
   "execution_count": 29,
   "metadata": {},
   "outputs": [
    {
     "data": {
      "text/plain": [
       "px\r\n",
       "--\r\n",
       "20\r\n"
      ]
     },
     "execution_count": 29,
     "metadata": {},
     "output_type": "execute_result"
    }
   ],
   "source": [
    "q)select max px-mins px from trades where sym=`aapl"
   ]
  },
  {
   "cell_type": "code",
   "execution_count": 30,
   "metadata": {},
   "outputs": [
    {
     "ename": "\u001b[0;31mmaxp\u001b[0m",
     "evalue": "\u001b[0;31mmaxp\u001b[0m",
     "output_type": "error",
     "traceback": [
      "\u001b[0;31mevaluation error:\n\u001b[0m",
      "\u001b[0;31mmaxp\u001b[0m",
      "\u001b[0;31m\u001b[0m",
      "\u001b[0;31m  [0]  select dt,tms from trades where px =( maxp: (select max px from trades))\r\n                                             ^\r\n\u001b[0m"
     ]
    }
   ],
   "source": [
    "select dt,tms from trades where px =( maxp: (select max px from trades))"
   ]
  },
  {
   "cell_type": "code",
   "execution_count": 33,
   "metadata": {},
   "outputs": [
    {
     "data": {
      "text/plain": [
       "px \r\n",
       "---\r\n",
       "660\r\n"
      ]
     },
     "execution_count": 33,
     "metadata": {},
     "output_type": "execute_result"
    }
   ],
   "source": [
    "select max px from trades where sym = `goog"
   ]
  },
  {
   "cell_type": "code",
   "execution_count": null,
   "metadata": {},
   "outputs": [],
   "source": []
  }
 ],
 "metadata": {
  "kernelspec": {
   "display_name": "Q (kdb+)",
   "language": "q",
   "name": "qpk"
  },
  "language_info": {
   "file_extension": ".q",
   "mimetype": "text/x-q",
   "name": "q",
   "version": "3.6.0"
  }
 },
 "nbformat": 4,
 "nbformat_minor": 2
}
