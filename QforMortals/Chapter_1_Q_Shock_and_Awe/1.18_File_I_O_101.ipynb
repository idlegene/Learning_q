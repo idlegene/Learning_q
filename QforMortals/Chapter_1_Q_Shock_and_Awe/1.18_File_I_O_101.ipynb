{
 "cells": [
  {
   "cell_type": "markdown",
   "metadata": {},
   "source": [
    "## 1.18 File I/O 101"
   ]
  },
  {
   "cell_type": "markdown",
   "metadata": {},
   "source": [
    "For this section we need to introduce the other q primitive text data type, called char. A single ASCII character is represented as that character in double quotes. Here are some examples. "
   ]
  },
  {
   "cell_type": "code",
   "execution_count": 1,
   "metadata": {},
   "outputs": [
    {
     "data": {
      "text/plain": [
       "\"a\"\r\n"
      ]
     },
     "execution_count": 1,
     "metadata": {},
     "output_type": "execute_result"
    }
   ],
   "source": [
    "\"a\""
   ]
  },
  {
   "cell_type": "markdown",
   "metadata": {},
   "source": [
    "The char \"a\" is an atom but is ‘’’not’’’ the same as its symbol cousin `a. \n",
    "Things get sticky with a simple list of char. Enter such a list in general form and observe the simplified display echoed on the console. "
   ]
  },
  {
   "cell_type": "code",
   "execution_count": 2,
   "metadata": {},
   "outputs": [
    {
     "data": {
      "text/plain": [
       "\" \"\r\n"
      ]
     },
     "execution_count": 2,
     "metadata": {},
     "output_type": "execute_result"
    }
   ],
   "source": [
    "\" \""
   ]
  },
  {
   "cell_type": "code",
   "execution_count": 3,
   "metadata": {},
   "outputs": [
    {
     "data": {
      "text/plain": [
       "\"\"\r\n"
      ]
     },
     "execution_count": 3,
     "metadata": {},
     "output_type": "execute_result"
    }
   ],
   "source": [
    "\"\""
   ]
  },
  {
   "cell_type": "markdown",
   "metadata": {},
   "source": [
    "The char \"a\" is an atom but is ‘’’not’’’ the same as its symbol cousin `a. \n",
    "Things get sticky with a simple list of char. Enter such a list in general form and observe the simplified display echoed on the console. "
   ]
  },
  {
   "cell_type": "code",
   "execution_count": 4,
   "metadata": {},
   "outputs": [
    {
     "data": {
      "text/plain": [
       "\"string\"\r\n"
      ]
     },
     "execution_count": 4,
     "metadata": {},
     "output_type": "execute_result"
    }
   ],
   "source": [
    "(\"s\";\"t\"; \"r\"; \"i\"; \"n\"; \"g\")"
   ]
  },
  {
   "cell_type": "markdown",
   "metadata": {},
   "source": [
    "A simple list of char looks like a string from traditional languages and is even called a string in q. But this string is ‘’’not’’’ an atom or even a first class entity in q; it is a list having count 6. And it should ‘’’not’’’ be confused with its symbol cousin `string, which is an atom having count 1. "
   ]
  },
  {
   "cell_type": "code",
   "execution_count": 6,
   "metadata": {},
   "outputs": [
    {
     "data": {
      "text/plain": [
       "6\r\n"
      ]
     },
     "execution_count": 6,
     "metadata": {},
     "output_type": "execute_result"
    },
    {
     "data": {
      "text/plain": [
       "1\r\n"
      ]
     },
     "execution_count": 6,
     "metadata": {},
     "output_type": "execute_result"
    }
   ],
   "source": [
    "count \"string\"\n",
    "count `string"
   ]
  },
  {
   "cell_type": "markdown",
   "metadata": {},
   "source": [
    "With these preliminaries out of the way, we proceed to I/O. The way q handles I/O is Spartan. No instantiation of readers, writers, serializers and the like. We admit that the notation is funky, but you will grow to appreciate its conciseness just as a serious driver prefers a manual transmission. \n",
    "\n",
    "File I/O begins with symbolic handles. A ‘’symbolic file handle’’ is a symbol of a particular form that represents the name of a resource on the file system. The leading ‘:’ distinguishes the symbol as a handle. For example,"
   ]
  },
  {
   "cell_type": "markdown",
   "metadata": {},
   "source": [
    "#### \\`:path/filename \n",
    "\n",
    "\n",
    "We use the following simple table in our demonstration. "
   ]
  },
  {
   "cell_type": "code",
   "execution_count": 7,
   "metadata": {},
   "outputs": [
    {
     "data": {
      "text/plain": [
       "c1 c2 \r\n",
       "------\r\n",
       "a  1.1\r\n",
       "b  2.2\r\n",
       "c  3.3\r\n"
      ]
     },
     "execution_count": 7,
     "metadata": {},
     "output_type": "execute_result"
    }
   ],
   "source": [
    "q)t:([] c1:`a`b`c; c2:1.1 2.2 3.3)\n",
    "q)t\n"
   ]
  },
  {
   "cell_type": "markdown",
   "metadata": {},
   "source": [
    "Pick a destination to write your files. Because this tutorial is being, the examples here will use , \n",
    "/q4m/examples \n",
    "You should replace this with your chosen directory in what follows. \n",
    "To save the table t in a serialized binary data file, use the built-in function (‘’’set’’’) with symbolic file handle as left operand and the source data as the right operand. "
   ]
  },
  {
   "cell_type": "code",
   "execution_count": 9,
   "metadata": {},
   "outputs": [
    {
     "data": {
      "text/plain": [
       "`:/Users/ajinj/notebooks/Learning_q/QforMortals/Chapter_1_Q_Shock_and_Awe/dat..\r\n"
      ]
     },
     "execution_count": 9,
     "metadata": {},
     "output_type": "execute_result"
    }
   ],
   "source": [
    "`:/Users/ajinj/notebooks/Learning_q/QforMortals/Chapter_1_Q_Shock_and_Awe/data/t set t"
   ]
  },
  {
   "cell_type": "markdown",
   "metadata": {},
   "source": [
    "Observe that the console echoes the symbolic file handle in case of success. To read the stored data and deserialize it back into the session, use (get) with the symbolic file handle. "
   ]
  },
  {
   "cell_type": "code",
   "execution_count": 10,
   "metadata": {},
   "outputs": [
    {
     "data": {
      "text/plain": [
       "c1 c2 \r\n",
       "------\r\n",
       "a  1.1\r\n",
       "b  2.2\r\n",
       "c  3.3\r\n"
      ]
     },
     "execution_count": 10,
     "metadata": {},
     "output_type": "execute_result"
    }
   ],
   "source": [
    "get `:/Users/ajinj/notebooks/Learning_q/QforMortals/Chapter_1_Q_Shock_and_Awe/data/t"
   ]
  },
  {
   "cell_type": "markdown",
   "metadata": {},
   "source": [
    "Presto! It’s out and back. \n",
    "\n",
    "To write text data to a file we use one of the overloads of the infelicitously named (0:) operator. The key idea is that q considers a text file to correspond to a list of strings, one string per file record. We supply (0:) with a symbolic file handle as its left operand and a list of strings (i.e., a list of lists of char) in the right operand."
   ]
  },
  {
   "cell_type": "code",
   "execution_count": 11,
   "metadata": {},
   "outputs": [
    {
     "data": {
      "text/plain": [
       "`:/q4m/life.txt\r\n"
      ]
     },
     "execution_count": 11,
     "metadata": {},
     "output_type": "execute_result"
    }
   ],
   "source": [
    "`:/q4m/life.txt 0: (\"Meaning\";\"of\";\"life\")"
   ]
  },
  {
   "cell_type": "code",
   "execution_count": 12,
   "metadata": {},
   "outputs": [
    {
     "data": {
      "text/plain": [
       "\"Meaning\"\r\n",
       "\"of\"\r\n",
       "\"life\"\r\n"
      ]
     },
     "execution_count": 12,
     "metadata": {},
     "output_type": "execute_result"
    }
   ],
   "source": [
    "read0 `:/q4m/life.txt"
   ]
  },
  {
   "cell_type": "markdown",
   "metadata": {},
   "source": [
    "And now, what everyone is waiting for: writing and reading csv files. Hold on to your hats, as this uses three different overloads of (0:). One to prepare the tables as text; the one we already met to write text files; and one to read formatted text files. Certainly a regrettable naming convention. \n",
    "\n",
    "Preparing a table as csv text is simple; q handles the quoting and escaping of special characters. Apply (0:) with the defined constant csv as left operand and the table in the right operand. \n"
   ]
  },
  {
   "cell_type": "code",
   "execution_count": 13,
   "metadata": {},
   "outputs": [
    {
     "data": {
      "text/plain": [
       "\"c1,c2\"\r\n",
       "\"a,1.1\"\r\n",
       "\"b,2.2\"\r\n",
       "\"c,3.3\"\r\n"
      ]
     },
     "execution_count": 13,
     "metadata": {},
     "output_type": "execute_result"
    }
   ],
   "source": [
    "csv 0: t"
   ]
  },
  {
   "cell_type": "markdown",
   "metadata": {},
   "source": [
    "Your console display shows the table properly prepared as strings. Now compose this result with the previous overload of (0:) and write it out. As a check, we use (read0) to read back the text file"
   ]
  },
  {
   "cell_type": "code",
   "execution_count": 14,
   "metadata": {},
   "outputs": [
    {
     "data": {
      "text/plain": [
       "`:/q4m/examples/t.csv\r\n"
      ]
     },
     "execution_count": 14,
     "metadata": {},
     "output_type": "execute_result"
    }
   ],
   "source": [
    "q)`:/q4m/examples/t.csv 0: csv 0: t\n"
   ]
  },
  {
   "cell_type": "code",
   "execution_count": 15,
   "metadata": {},
   "outputs": [
    {
     "data": {
      "text/plain": [
       "\"c1,c2\"\r\n",
       "\"a,1.1\"\r\n",
       "\"b,2.2\"\r\n",
       "\"c,3.3\"\r\n"
      ]
     },
     "execution_count": 15,
     "metadata": {},
     "output_type": "execute_result"
    }
   ],
   "source": [
    "q)read0 `:/q4m/examples/t.csv"
   ]
  },
  {
   "cell_type": "markdown",
   "metadata": {},
   "source": [
    "Finally, we demonstrate the third overload of (0:) to parse the formatted csv file into the q session as a table. The right operand is a symbolic file handle. The left operand is a control list with two items. The first is a string of upper case characters indicating the types of each field within the text row. \n",
    "\n",
    "The second item of the control list is the field separation character—in our case this is ‘,’. This separator char should be enlisted if there are column headers in the first row of the file, as in our case. These headers are used as table column names. For our example we have,"
   ]
  },
  {
   "cell_type": "code",
   "execution_count": 16,
   "metadata": {},
   "outputs": [
    {
     "data": {
      "text/plain": [
       "c1 c2 \r\n",
       "------\r\n",
       "a  1.1\r\n",
       "b  2.2\r\n",
       "c  3.3\r\n"
      ]
     },
     "execution_count": 16,
     "metadata": {},
     "output_type": "execute_result"
    }
   ],
   "source": [
    "(\"SF\"; enlist \",\") 0:  `:/q4m/examples/t.csv"
   ]
  },
  {
   "cell_type": "markdown",
   "metadata": {},
   "source": [
    "\n",
    "* Here \"S\" and \"F\" indicate that there are two fields, having types symbol and float. The separator is an enlisted ‘,’. \n",
    "* Yes, the naming and notation is obscure. But you have to admit that file I/O can’t get much simpler. \n"
   ]
  },
  {
   "cell_type": "code",
   "execution_count": null,
   "metadata": {},
   "outputs": [],
   "source": []
  }
 ],
 "metadata": {
  "kernelspec": {
   "display_name": "Q (kdb+)",
   "language": "q",
   "name": "qpk"
  },
  "language_info": {
   "file_extension": ".q",
   "mimetype": "text/x-q",
   "name": "q",
   "version": "3.6.0"
  }
 },
 "nbformat": 4,
 "nbformat_minor": 2
}
