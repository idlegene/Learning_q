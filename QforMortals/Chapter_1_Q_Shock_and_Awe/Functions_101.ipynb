{
 "cells": [
  {
   "cell_type": "markdown",
   "metadata": {},
   "source": [
    "### 1.10 Functions 101 \n",
    "All built-in q operators are functions. \n",
    "\n",
    "The main differences between q’s functions and the ones we mortals can write are: \n",
    "* The built-ins are written and optimized in one of the underlying languages k or C. \n",
    "* All q functions can be used with infix notation—i.e., as operators—whereas ours must be used in prefix form. \n",
    "* Functions in q correspond to “lambda expressions” or “anonymous functions” in other languages. This means that a function is a first class value just like a long or float value—i.e., it acquires a name only once it is assigned to a variable. \n",
    "* Conceptually, a q function is a sequence of steps that produces an output result from an input value. Since q is not purely functional, these rules can interact with the world by reaching outside the context of the function. Such actions are called side effects and should be carefully controlled. \n",
    "* Function definition is delimited by matching curly braces ‘{‘ and ‘}’. Immediately after the opening brace, the formal parameters are names enclosed in square brackets ‘[‘ and ‘]’ and separated by semi- colons. These parameters presumably appear in the body of the function, which follows the formal parameters and is a succession of expressions sequenced by semi-colons. "
   ]
  },
  {
   "cell_type": "code",
   "execution_count": 1,
   "metadata": {},
   "outputs": [
    {
     "data": {
      "text/plain": [
       "{[x] x*x}\r\n"
      ]
     },
     "execution_count": 1,
     "metadata": {},
     "output_type": "execute_result"
    }
   ],
   "source": [
    "q){[x] x*x} \n",
    "/ py -> sq = lambda x: x**2\n",
    "/sc -> val sq = (x: Int) => x*x\n",
    "q)sq:{[x] x*x}"
   ]
  },
  {
   "cell_type": "code",
   "execution_count": 5,
   "metadata": {},
   "outputs": [
    {
     "data": {
      "text/plain": [
       "{[x] x*x}\r\n"
      ]
     },
     "execution_count": 5,
     "metadata": {},
     "output_type": "execute_result"
    }
   ],
   "source": [
    "sq /shows def"
   ]
  },
  {
   "cell_type": "code",
   "execution_count": 11,
   "metadata": {},
   "outputs": [
    {
     "data": {
      "text/plain": [
       "25\r\n"
      ]
     },
     "execution_count": 11,
     "metadata": {},
     "output_type": "execute_result"
    },
    {
     "data": {
      "text/plain": [
       "36\r\n"
      ]
     },
     "execution_count": 11,
     "metadata": {},
     "output_type": "execute_result"
    }
   ],
   "source": [
    "sq(5)\n",
    "sq[6]"
   ]
  },
  {
   "cell_type": "code",
   "execution_count": 6,
   "metadata": {},
   "outputs": [
    {
     "data": {
      "text/plain": [
       "{[x;y] a:x*x; b:y*y; a+b}\r\n"
      ]
     },
     "execution_count": 6,
     "metadata": {},
     "output_type": "execute_result"
    }
   ],
   "source": [
    "/Here is a function that takes two input values and returns the sum of their squares. \n",
    "{[x;y] a:x*x; b:y*y; a+b}"
   ]
  },
  {
   "cell_type": "code",
   "execution_count": 7,
   "metadata": {},
   "outputs": [],
   "source": [
    "pyth:{[x;y] a:x*x; b:y*y; a+b}"
   ]
  },
  {
   "cell_type": "markdown",
   "metadata": {},
   "source": [
    "* The variables a and b appearing in the body of the last function above are local—i.e., they are created and exist only for the duration of an application. \n",
    "* ***It is common in mathematics to use function parameters x, y, or z. If you are content with these names (in the belief that descriptive names provide no useful information to the poor soul reading your code), you can omit their declaration and q will understand that you mean the implicit parameters x, y, and z in that order.***"
   ]
  },
  {
   "cell_type": "code",
   "execution_count": 13,
   "metadata": {},
   "outputs": [
    {
     "data": {
      "text/plain": [
       "25\r\n"
      ]
     },
     "execution_count": 13,
     "metadata": {},
     "output_type": "execute_result"
    },
    {
     "data": {
      "text/plain": [
       "25\r\n"
      ]
     },
     "execution_count": 13,
     "metadata": {},
     "output_type": "execute_result"
    }
   ],
   "source": [
    "q){x*x}[5]  /implicit notation\n",
    "\n",
    "q){a:x*x; b:y*y; a+b}[3;4]\n"
   ]
  },
  {
   "cell_type": "markdown",
   "metadata": {},
   "source": [
    "```\n",
    "This is about as pithy as it gets for function definition and application. \n",
    "Well, not quite. \n",
    "In q, as in most functional languages, we don’t need no stinkin’ brackets for application of a monadic function—i.e., \n",
    "with one parameter. Simply separate the function from its argument by whitespace. This is called function juxtaposition. \n",
    "*just saw that it works with () as well\n",
    "```"
   ]
  },
  {
   "cell_type": "code",
   "execution_count": null,
   "metadata": {},
   "outputs": [],
   "source": [
    "q){x*x} 5 5\n",
    "\n",
    "q)f:{x*x}\n",
    "q)f 5"
   ]
  },
  {
   "cell_type": "markdown",
   "metadata": {},
   "source": [
    "If you are new to functional programming this may take some getting used to, but the reduction of punctuation “noise” in your code is worth it."
   ]
  },
  {
   "cell_type": "code",
   "execution_count": null,
   "metadata": {},
   "outputs": [],
   "source": []
  },
  {
   "cell_type": "code",
   "execution_count": null,
   "metadata": {},
   "outputs": [],
   "source": []
  },
  {
   "cell_type": "code",
   "execution_count": null,
   "metadata": {},
   "outputs": [],
   "source": []
  }
 ],
 "metadata": {
  "kernelspec": {
   "display_name": "Q (kdb+)",
   "language": "q",
   "name": "qpk"
  },
  "language_info": {
   "file_extension": ".q",
   "mimetype": "text/x-q",
   "name": "q",
   "version": "3.6.0"
  }
 },
 "nbformat": 4,
 "nbformat_minor": 2
}
